{
 "cells": [
  {
   "cell_type": "code",
   "execution_count": 9,
   "metadata": {},
   "outputs": [],
   "source": [
    "import os,shutil\n",
    "import re\n",
    "from nltk.corpus import stopwords\n",
    "from html.parser import HTMLParser\n",
    "import collections\n",
    "import pandas\n",
    "import matplotlib.pyplot as plt\n",
    "import matplotlib.cm as cm"
   ]
  },
  {
   "cell_type": "code",
   "execution_count": 10,
   "metadata": {},
   "outputs": [],
   "source": [
    "dataset_dir = '/home/home/Git/DataSets/Stackoverflow/10%Data/full/'\n",
    "dataset_questions = \"Questions.csv\"\n",
    "dataset_answers = \"Answers.csv\"\n",
    "dataset_tags = \"Tags.csv\""
   ]
  },
  {
   "cell_type": "code",
   "execution_count": 12,
   "metadata": {},
   "outputs": [],
   "source": [
    "class MLStripper(HTMLParser):\n",
    "    def __init__(self):\n",
    "        self.reset()\n",
    "        self.strict = False\n",
    "        self.convert_charrefs= True\n",
    "        self.fed = []\n",
    "    def handle_data(self, d):\n",
    "        self.fed.append(d)\n",
    "    def get_data(self):\n",
    "        return ''.join(self.fed)\n",
    "\n",
    "def strip_tags(html):\n",
    "    s = MLStripper()\n",
    "    s.feed(html)\n",
    "    return s.get_data()\n",
    "stop_words = stopwords.words(\"english\")"
   ]
  },
  {
   "cell_type": "code",
   "execution_count": 13,
   "metadata": {},
   "outputs": [],
   "source": [
    "#function to clean data\n",
    "def clean_data(str):\n",
    "    return ' '.join([word for word in re.sub(r'[^\\w]', ' ', strip_tags(str)).lower().split() \n",
    "                     if word not in stop_words and len(word) > 1 and not word.isdigit()])"
   ]
  },
  {
   "cell_type": "code",
   "execution_count": 6,
   "metadata": {},
   "outputs": [],
   "source": [
    "#raw_questions = pd.read_csv(dataset_dir+dataset_questions, encoding='latin1')\n",
    "#raw_tags = pd.read_csv(dataset_dir+dataset_tags,encoding='latin1')"
   ]
  },
  {
   "cell_type": "code",
   "execution_count": 7,
   "metadata": {},
   "outputs": [
    {
     "ename": "NameError",
     "evalue": "name 'raw_questions_df' is not defined",
     "output_type": "error",
     "traceback": [
      "\u001b[0;31m---------------------------------------------------------------------------\u001b[0m",
      "\u001b[0;31mNameError\u001b[0m                                 Traceback (most recent call last)",
      "\u001b[0;32m<ipython-input-7-7661e33bf28e>\u001b[0m in \u001b[0;36m<module>\u001b[0;34m()\u001b[0m\n\u001b[0;32m----> 1\u001b[0;31m \u001b[0mraw_questions_df\u001b[0m\u001b[0;34m.\u001b[0m\u001b[0mhead\u001b[0m\u001b[0;34m(\u001b[0m\u001b[0;36m10\u001b[0m\u001b[0;34m)\u001b[0m\u001b[0;34m.\u001b[0m\u001b[0mloc\u001b[0m\u001b[0;34m[\u001b[0m\u001b[0;34m:\u001b[0m\u001b[0;34m,\u001b[0m \u001b[0;34m'Title'\u001b[0m\u001b[0;34m:\u001b[0m\u001b[0;34m'Body'\u001b[0m\u001b[0;34m]\u001b[0m\u001b[0;34m\u001b[0m\u001b[0m\n\u001b[0m\u001b[1;32m      2\u001b[0m \u001b[0mraw_tags\u001b[0m\u001b[0;34m.\u001b[0m\u001b[0mhead\u001b[0m\u001b[0;34m(\u001b[0m\u001b[0;36m10\u001b[0m\u001b[0;34m)\u001b[0m\u001b[0;34m\u001b[0m\u001b[0m\n",
      "\u001b[0;31mNameError\u001b[0m: name 'raw_questions_df' is not defined"
     ]
    }
   ],
   "source": [
    "#5 questions and their respective tags before cleaning\n",
    "raw_questions.head(5).loc[:, 'Title':'Body']\n",
    "raw_tags.head(5)"
   ]
  },
  {
   "cell_type": "code",
   "execution_count": null,
   "metadata": {},
   "outputs": [],
   "source": [
    "# Normalize question body and title\n",
    "for index, row in questions_df.iterrows():\n",
    "    raw_questions.at[index, 'Body']= clean_data(row[6])\n",
    "    raw_questions.at[index, 'Title']= clean_data(row[5])"
   ]
  },
  {
   "cell_type": "code",
   "execution_count": null,
   "metadata": {},
   "outputs": [],
   "source": [
    "#5 questions and their respective tags before cleaning\n",
    "raw_questions.head(5).loc[:, 'Title':'Body']\n",
    "raw_tags.head(5)"
   ]
  },
  {
   "cell_type": "code",
   "execution_count": 14,
   "metadata": {},
   "outputs": [],
   "source": [
    "inputQ_title=\"What is the most efficient way to deep clone an object in JavaScript?\"\n",
    "inputQ_body=\"\"\"What is the most efficient way to clone a JavaScript object? \n",
    "I've seen obj = eval(uneval(o)); being used, \n",
    "but that's non-standard and only supported by Firefox.\n",
    "I've done things like obj = JSON.parse(JSON.stringify(o)); but question the efficiency. \n",
    "I've also seen recursive copying functions with various flaws. \n",
    "I'm surprised no canonical solution exists.\"\"\"\n",
    "inputQ_tags=\"javascript, json, object\"\n",
    "\n",
    "# normalize\n",
    "normalized_query=clean_data(inputQ_title + \" \" + inputQ_body+ \" \" + inputQ_tags)\n"
   ]
  },
  {
   "cell_type": "code",
   "execution_count": 15,
   "metadata": {},
   "outputs": [
    {
     "name": "stdout",
     "output_type": "stream",
     "text": [
      "efficient way deep clone object javascript efficient way clone javascript object seen obj eval uneval used non standard supported firefox done things like obj json parse json stringify question efficiency also seen recursive copying functions various flaws surprised canonical solution exists javascript json object\n"
     ]
    }
   ],
   "source": [
    "print(normalized_query)"
   ]
  },
  {
   "cell_type": "code",
   "execution_count": null,
   "metadata": {},
   "outputs": [],
   "source": [
    "#50 most frequent tags\n",
    "tags_tally = collections.Counter(raw_tags['Tag'])\n",
    "\n",
    "# x = tag name, y = tag frequency\n",
    "x, y = zip(*tags_tally.most_common(10))\n",
    "\n",
    "colormap = plt.cm.gist_ncar \n",
    "colors = [colormap(i) for i in np.linspace(0, 0.8,50)]   \n",
    "\n",
    "area = [i/3 for i in list(y)] \n",
    "plt.figure(figsize=(8,8))\n",
    "plt.ylabel(\"Frequency\")\n",
    "plt.title(\"Top 50 most common tags\")\n",
    "for i in range(len(y)):\n",
    "        plt.plot(i,y[i], marker='v', linestyle='',ms=area[i],label=x[i])\n",
    "\n",
    "plt.legend(numpoints=1)\n",
    "plt.show()"
   ]
  },
  {
   "cell_type": "code",
   "execution_count": null,
   "metadata": {},
   "outputs": [],
   "source": []
  },
  {
   "cell_type": "code",
   "execution_count": null,
   "metadata": {},
   "outputs": [],
   "source": []
  },
  {
   "cell_type": "code",
   "execution_count": null,
   "metadata": {},
   "outputs": [],
   "source": []
  }
 ],
 "metadata": {
  "kernelspec": {
   "display_name": "Python 3",
   "language": "python",
   "name": "python3"
  },
  "language_info": {
   "codemirror_mode": {
    "name": "ipython",
    "version": 3
   },
   "file_extension": ".py",
   "mimetype": "text/x-python",
   "name": "python",
   "nbconvert_exporter": "python",
   "pygments_lexer": "ipython3",
   "version": "3.7.3"
  }
 },
 "nbformat": 4,
 "nbformat_minor": 2
}
